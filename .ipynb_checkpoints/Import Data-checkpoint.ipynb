{
 "cells": [
  {
   "cell_type": "code",
   "execution_count": 90,
   "metadata": {},
   "outputs": [
    {
     "name": "stderr",
     "output_type": "stream",
     "text": [
      "c:\\users\\jaedyn\\appdata\\local\\programs\\python\\python37\\lib\\site-packages\\ipykernel_launcher.py:12: SettingWithCopyWarning: \n",
      "A value is trying to be set on a copy of a slice from a DataFrame.\n",
      "Try using .loc[row_indexer,col_indexer] = value instead\n",
      "\n",
      "See the caveats in the documentation: https://pandas.pydata.org/pandas-docs/stable/user_guide/indexing.html#returning-a-view-versus-a-copy\n",
      "  if sys.path[0] == '':\n",
      "c:\\users\\jaedyn\\appdata\\local\\programs\\python\\python37\\lib\\site-packages\\ipykernel_launcher.py:13: SettingWithCopyWarning: \n",
      "A value is trying to be set on a copy of a slice from a DataFrame.\n",
      "Try using .loc[row_indexer,col_indexer] = value instead\n",
      "\n",
      "See the caveats in the documentation: https://pandas.pydata.org/pandas-docs/stable/user_guide/indexing.html#returning-a-view-versus-a-copy\n",
      "  del sys.path[0]\n",
      "c:\\users\\jaedyn\\appdata\\local\\programs\\python\\python37\\lib\\site-packages\\ipykernel_launcher.py:14: SettingWithCopyWarning: \n",
      "A value is trying to be set on a copy of a slice from a DataFrame.\n",
      "Try using .loc[row_indexer,col_indexer] = value instead\n",
      "\n",
      "See the caveats in the documentation: https://pandas.pydata.org/pandas-docs/stable/user_guide/indexing.html#returning-a-view-versus-a-copy\n",
      "  \n"
     ]
    },
    {
     "data": {
      "text/plain": [
       "Nil               285813\n",
       "Give Way Sign     119923\n",
       "Traffic Signal     68651\n",
       "Stop Sign          41446\n",
       "School Patrol        319\n",
       "Points Man            83\n",
       "Name: TRAFFIC_CTRL, dtype: int64"
      ]
     },
     "execution_count": 90,
     "metadata": {},
     "output_type": "execute_result"
    }
   ],
   "source": [
    "import pandas as pd\n",
    "\n",
    "crash_data = pd.read_csv(\"crash_data.csv\")\n",
    "\n",
    "def processData(data, keep_col_array):\n",
    "    processed_data = data[keep_col_array]\n",
    "    return processed_data\n",
    "\n",
    "keep_col_array = ['CRASH_YEAR', 'CRASH_SEV', 'MULTI_VEH', 'HOLIDAY', 'LG_REGION_DESC', 'JUNCTION_TYPE', 'DIRN_ROLE1_DESC', 'INTSN_MIDBLOCK', 'FLAT_HILL', 'ROAD_CURVATURE', 'ROAD_MARKINGS', 'ROAD_SURFACE', 'ROAD_WET', 'NUM_LANES', 'TRAFFIC_CTRL', 'SPD_LIM', 'URBAN', 'LIGHT', 'STREET_LIGHT', 'WEATHER_A']\n",
    "processed_crash_data = processData(crash_data, keep_col_array)\n",
    "#processed_crash_data.to_csv(\"crash_data_limit_cols.csv\", index=False)\n",
    "processed_crash_data[\"SPD_LIM\"] = [100 if x == 'LSZ' else x for x in processed_crash_data[\"SPD_LIM\"]]\n",
    "#processed_crash_data[\"TRAFFIC_CTRL\"] = ['Unknown' if x == '' else x for x in processed_crash_data[\"TRAFFIC_CTRL\"]]\n",
    "processed_crash_data['SPD_LIM'] = processed_crash_data['SPD_LIM'].astype('int64')\n",
    "#processed_crash_data.dtypes\n",
    "#processed_crash_data.to_csv(\"crash_data_limit_cols_modify_spdlim.csv\", index=False)\n",
    "processed_crash_data[\"TRAFFIC_CTRL\"].value_counts()\n"
   ]
  },
  {
   "cell_type": "code",
   "execution_count": 92,
   "metadata": {
    "scrolled": false
   },
   "outputs": [],
   "source": [
    "from sklearn.preprocessing import LabelEncoder\n",
    "\n",
    "labelEncoder = LabelEncoder()\n",
    "crash_data_only_objects = processed_crash_data.select_dtypes(include=['object']).copy()\n",
    "#processed_crash_data[\"CRASH_SEV_CODE\"] = labelEncoder.fit_transform(processed_crash_data[\"CRASH_SEV\"])\n",
    "#processed_crash_data.head()\n",
    "#obviously there is a better way but yea\n",
    "crash_data_df = pd.DataFrame()\n",
    "crash_data_df = crash_data_df.assign(CRASH_YEAR = processed_crash_data[\"CRASH_YEAR\"])\n",
    "crash_data_df = crash_data_df.assign(NUM_LANES = processed_crash_data[\"NUM_LANES\"])\n",
    "crash_data_df = crash_data_df.assign(SPD_LIM = processed_crash_data[\"SPD_LIM\"])\n",
    "crash_data_df = crash_data_df.assign(CRASH_SEV = processed_crash_data[\"CRASH_SEV\"])\n",
    "crash_data_df = crash_data_df.assign(CRASH_SEV_CODE = labelEncoder.fit_transform(processed_crash_data[\"CRASH_SEV\"]))\n",
    "crash_data_df = crash_data_df.assign(MULTI_VEH = processed_crash_data[\"MULTI_VEH\"])\n",
    "crash_data_df = crash_data_df.assign(MULTI_VEH_CODE = labelEncoder.fit_transform(processed_crash_data[\"MULTI_VEH\"]))\n",
    "crash_data_df = crash_data_df.assign(HOLIDAY = processed_crash_data[\"HOLIDAY\"])\n",
    "crash_data_df = crash_data_df.assign(HOLIDAY_CODE = labelEncoder.fit_transform(processed_crash_data[\"HOLIDAY\"]))\n",
    "crash_data_df = crash_data_df.assign(LG_REGION_DESC = processed_crash_data[\"LG_REGION_DESC\"])\n",
    "crash_data_df = crash_data_df.assign(LG_REGION_DESC_CODE = labelEncoder.fit_transform(processed_crash_data[\"LG_REGION_DESC\"]))\n",
    "crash_data_df = crash_data_df.assign(JUNCTION_TYPE = processed_crash_data[\"JUNCTION_TYPE\"])\n",
    "crash_data_df = crash_data_df.assign(JUNCTION_TYPE_CODE = labelEncoder.fit_transform(processed_crash_data[\"JUNCTION_TYPE\"]))\n",
    "crash_data_df = crash_data_df.assign(DIRN_ROLE1_DESC = processed_crash_data[\"DIRN_ROLE1_DESC\"])\n",
    "crash_data_df = crash_data_df.assign(DIRN_ROLE1_DESC_CODE = labelEncoder.fit_transform(processed_crash_data[\"DIRN_ROLE1_DESC\"]))\n",
    "crash_data_df = crash_data_df.assign(INTSN_MIDBLOCK = processed_crash_data[\"INTSN_MIDBLOCK\"])\n",
    "crash_data_df = crash_data_df.assign(INTSN_MIDBLOCK_CODE = labelEncoder.fit_transform(processed_crash_data[\"INTSN_MIDBLOCK\"]))\n",
    "crash_data_df = crash_data_df.assign(FLAT_HILL = processed_crash_data[\"FLAT_HILL\"])\n",
    "crash_data_df = crash_data_df.assign(FLAT_HILL_CODE = labelEncoder.fit_transform(processed_crash_data[\"FLAT_HILL\"]))\n",
    "crash_data_df = crash_data_df.assign(ROAD_CURVATURE = processed_crash_data[\"ROAD_CURVATURE\"])\n",
    "crash_data_df = crash_data_df.assign(ROAD_CURVATURE_CODE = labelEncoder.fit_transform(processed_crash_data[\"ROAD_CURVATURE\"]))\n",
    "crash_data_df = crash_data_df.assign(ROAD_MARKINGS = processed_crash_data[\"ROAD_MARKINGS\"])\n",
    "crash_data_df = crash_data_df.assign(ROAD_MARKINGS_CODE = labelEncoder.fit_transform(processed_crash_data[\"ROAD_MARKINGS\"]))\n",
    "crash_data_df = crash_data_df.assign(ROAD_SURFACE = processed_crash_data[\"ROAD_SURFACE\"])\n",
    "crash_data_df = crash_data_df.assign(ROAD_SURFACE_CODE = labelEncoder.fit_transform(processed_crash_data[\"ROAD_SURFACE\"]))\n",
    "crash_data_df = crash_data_df.assign(ROAD_WET = processed_crash_data[\"ROAD_WET\"])\n",
    "crash_data_df = crash_data_df.assign(ROAD_WET_CODE = labelEncoder.fit_transform(processed_crash_data[\"ROAD_WET\"]))\n",
    "crash_data_df = crash_data_df.assign(URBAN = processed_crash_data[\"URBAN\"])\n",
    "crash_data_df = crash_data_df.assign(URBAN_CODE = labelEncoder.fit_transform(processed_crash_data[\"URBAN\"]))\n",
    "crash_data_df = crash_data_df.assign(LIGHT = processed_crash_data[\"LIGHT\"])\n",
    "crash_data_df = crash_data_df.assign(LIGHT_CODE = labelEncoder.fit_transform(processed_crash_data[\"LIGHT\"]))\n",
    "crash_data_df = crash_data_df.assign(STREET_LIGHT = processed_crash_data[\"STREET_LIGHT\"])\n",
    "crash_data_df = crash_data_df.assign(STREET_LIGHT_CODE = labelEncoder.fit_transform(processed_crash_data[\"STREET_LIGHT\"]))\n",
    "crash_data_df = crash_data_df.assign(WEATHER_A = processed_crash_data[\"WEATHER_A\"])\n",
    "crash_data_df = crash_data_df.assign(WEATHER_A_CODE = labelEncoder.fit_transform(processed_crash_data[\"WEATHER_A\"]))\n",
    "crash_data_df = crash_data_df.assign(TRAFFIC_CTRL = processed_crash_data[\"TRAFFIC_CTRL\"])\n",
    "#doesnt work as there are empty cells\n",
    "#crash_data_df = crash_data_df.assign(TRAFFIC_CTRL_CODE = labelEncoder.fit_transform(processed_crash_data[\"TRAFFIC_CTRL\"]))\n",
    "#to make csv file\n",
    "#crash_data_df.to_csv(\"crash_data_numeric_values_plus_categoric_values.csv\", index=False)\n",
    "\n",
    "        \n",
    "\n",
    "    "
   ]
  },
  {
   "cell_type": "code",
   "execution_count": 94,
   "metadata": {},
   "outputs": [],
   "source": [
    "crash_data_df_2 = pd.DataFrame()\n",
    "crash_data_df_2 = crash_data_df_2.assign(CRASH_YEAR = processed_crash_data[\"CRASH_YEAR\"])\n",
    "crash_data_df_2 = crash_data_df_2.assign(NUM_LANES = processed_crash_data[\"NUM_LANES\"])\n",
    "crash_data_df_2 = crash_data_df_2.assign(SPD_LIM = processed_crash_data[\"SPD_LIM\"])\n",
    "crash_data_df_2 = crash_data_df_2.assign(CRASH_SEV_CODE = labelEncoder.fit_transform(processed_crash_data[\"CRASH_SEV\"]))\n",
    "crash_data_df_2 = crash_data_df_2.assign(MULTI_VEH_CODE = labelEncoder.fit_transform(processed_crash_data[\"MULTI_VEH\"]))\n",
    "crash_data_df_2 = crash_data_df_2.assign(HOLIDAY_CODE = labelEncoder.fit_transform(processed_crash_data[\"HOLIDAY\"]))\n",
    "crash_data_df_2 = crash_data_df_2.assign(LG_REGION_DESC_CODE = labelEncoder.fit_transform(processed_crash_data[\"LG_REGION_DESC\"]))\n",
    "crash_data_df_2 = crash_data_df_2.assign(JUNCTION_TYPE_CODE = labelEncoder.fit_transform(processed_crash_data[\"JUNCTION_TYPE\"]))\n",
    "crash_data_df_2 = crash_data_df_2.assign(DIRN_ROLE1_DESC_CODE = labelEncoder.fit_transform(processed_crash_data[\"DIRN_ROLE1_DESC\"]))\n",
    "crash_data_df_2 = crash_data_df_2.assign(INTSN_MIDBLOCK_CODE = labelEncoder.fit_transform(processed_crash_data[\"INTSN_MIDBLOCK\"]))\n",
    "crash_data_df_2 = crash_data_df_2.assign(FLAT_HILL_CODE = labelEncoder.fit_transform(processed_crash_data[\"FLAT_HILL\"]))\n",
    "crash_data_df_2 = crash_data_df_2.assign(ROAD_CURVATURE_CODE = labelEncoder.fit_transform(processed_crash_data[\"ROAD_CURVATURE\"]))\n",
    "crash_data_df_2 = crash_data_df_2.assign(ROAD_MARKINGS_CODE = labelEncoder.fit_transform(processed_crash_data[\"ROAD_MARKINGS\"]))\n",
    "crash_data_df_2 = crash_data_df_2.assign(ROAD_SURFACE_CODE = labelEncoder.fit_transform(processed_crash_data[\"ROAD_SURFACE\"]))\n",
    "crash_data_df_2 = crash_data_df_2.assign(ROAD_WET_CODE = labelEncoder.fit_transform(processed_crash_data[\"ROAD_WET\"]))\n",
    "crash_data_df_2 = crash_data_df_2.assign(URBAN_CODE = labelEncoder.fit_transform(processed_crash_data[\"URBAN\"]))\n",
    "crash_data_df_2 = crash_data_df_2.assign(LIGHT_CODE = labelEncoder.fit_transform(processed_crash_data[\"LIGHT\"]))\n",
    "crash_data_df_2 = crash_data_df_2.assign(STREET_LIGHT_CODE = labelEncoder.fit_transform(processed_crash_data[\"STREET_LIGHT\"]))\n",
    "crash_data_df_2 = crash_data_df_2.assign(WEATHER_A_CODE = labelEncoder.fit_transform(processed_crash_data[\"WEATHER_A\"]))\n",
    "crash_data_df_2 = crash_data_df_2.assign(TRAFFIC_CTRL = processed_crash_data[\"TRAFFIC_CTRL\"])\n",
    "#crash_data_df.to_csv(\"crash_data_only_numeric_values.csv\", index=False)\n",
    "crash_data_df_2\n"
   ]
  }
 ],
 "metadata": {
  "kernelspec": {
   "display_name": "Python 3",
   "language": "python",
   "name": "python3"
  },
  "language_info": {
   "codemirror_mode": {
    "name": "ipython",
    "version": 3
   },
   "file_extension": ".py",
   "mimetype": "text/x-python",
   "name": "python",
   "nbconvert_exporter": "python",
   "pygments_lexer": "ipython3",
   "version": "3.7.8"
  }
 },
 "nbformat": 4,
 "nbformat_minor": 4
}

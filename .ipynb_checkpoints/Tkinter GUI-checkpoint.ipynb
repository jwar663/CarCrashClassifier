{
 "cells": [
  {
   "cell_type": "code",
   "execution_count": 1,
   "metadata": {},
   "outputs": [],
   "source": [
    "#GUI\n",
    "import tkinter\n",
    "from tkinter import *\n",
    "import os\n",
    "from joblib import dump, load"
   ]
  },
  {
   "cell_type": "code",
   "execution_count": 2,
   "metadata": {},
   "outputs": [],
   "source": [
    "modelLoaded = False "
   ]
  },
  {
   "cell_type": "code",
   "execution_count": 13,
   "metadata": {},
   "outputs": [],
   "source": [
    "def loadModelCommand():\n",
    "    if not modelLoaded:\n",
    "        #import classification model\n",
    "        \n",
    "        clf = load('decision_tree_classification_model.joblib')\n",
    "        loadModel.config(state=DISABLED, text=\"Model Loaded Successfully\")\n",
    "      \n",
    "def setCrashYear(event):\n",
    "    print(\"chose year\")\n",
    "    \n",
    "def startPredictionCommand():\n",
    "    #clf.head()\n",
    "    print(\"Started Prediction\")"
   ]
  },
  {
   "cell_type": "code",
   "execution_count": 12,
   "metadata": {},
   "outputs": [
    {
     "name": "stderr",
     "output_type": "stream",
     "text": [
      "Exception in Tkinter callback\n",
      "Traceback (most recent call last):\n",
      "  File \"c:\\users\\jaedyn\\appdata\\local\\programs\\python\\python37\\lib\\tkinter\\__init__.py\", line 1705, in __call__\n",
      "    return self.func(*args)\n",
      "  File \"c:\\users\\jaedyn\\appdata\\local\\programs\\python\\python37\\lib\\tkinter\\__init__.py\", line 3442, in __call__\n",
      "    self.__callback(self.__value, *args)\n",
      "TypeError: setCrashYear() takes 0 positional arguments but 1 was given\n",
      "Exception in Tkinter callback\n",
      "Traceback (most recent call last):\n",
      "  File \"c:\\users\\jaedyn\\appdata\\local\\programs\\python\\python37\\lib\\tkinter\\__init__.py\", line 1705, in __call__\n",
      "    return self.func(*args)\n",
      "  File \"c:\\users\\jaedyn\\appdata\\local\\programs\\python\\python37\\lib\\tkinter\\__init__.py\", line 3442, in __call__\n",
      "    self.__callback(self.__value, *args)\n",
      "TypeError: setCrashYear() takes 0 positional arguments but 1 was given\n"
     ]
    }
   ],
   "source": [
    "\n",
    "root = Tk()\n",
    "\n",
    "canvas = Canvas(root, height=700, width=700, bg=\"#000000\")\n",
    "canvas.pack()\n",
    "\n",
    "frame = Frame(root, bg=\"white\")\n",
    "frame.place(relwidth=0.8, relheight=0.8, relx=0.1, rely=0.1)\n",
    "\n",
    "crashYearOptions = [\n",
    "    2020,\n",
    "    2019,\n",
    "    2018,\n",
    "    2017,\n",
    "    2016,\n",
    "    2015,\n",
    "    2014,\n",
    "    2013,\n",
    "    2012,\n",
    "    2011,\n",
    "    2010,\n",
    "    2009,\n",
    "    2008,\n",
    "    2007,\n",
    "    2006,\n",
    "    2005,\n",
    "    2004,\n",
    "    2003,\n",
    "    2002,\n",
    "    2001,\n",
    "    2000\n",
    "]\n",
    "\n",
    "crashYearSelected = IntVar()\n",
    "crashYearSelected.set(crashYearOptions[0])\n",
    "crashYear = OptionMenu(frame, crashYearSelected, *crashYearOptions, command=setCrashYear)\n",
    "crashYear.pack()\n",
    "\n",
    "loadModel = Button(frame, text=\"Load Classification Model\", padx=10, pady=5, fg=\"white\", bg=\"#263D41\", command=loadModelCommand)\n",
    "loadModel.pack()\n",
    "\n",
    "startPrediction = Button(frame, text=\"Predict Severity\", padx=10, pady=5, fg=\"white\", bg=\"#263D41\", command=startPredictionCommand)\n",
    "startPrediction.pack()\n",
    "\n",
    "root.mainloop()"
   ]
  },
  {
   "cell_type": "code",
   "execution_count": 9,
   "metadata": {},
   "outputs": [
    {
     "name": "stdout",
     "output_type": "stream",
     "text": [
      "newValue\n"
     ]
    }
   ],
   "source": [
    "#newValue = None\n",
    "#newValue = \"newValue\"\n",
    "print(newValue)"
   ]
  }
 ],
 "metadata": {
  "kernelspec": {
   "display_name": "Python 3",
   "language": "python",
   "name": "python3"
  },
  "language_info": {
   "codemirror_mode": {
    "name": "ipython",
    "version": 3
   },
   "file_extension": ".py",
   "mimetype": "text/x-python",
   "name": "python",
   "nbconvert_exporter": "python",
   "pygments_lexer": "ipython3",
   "version": "3.7.8"
  }
 },
 "nbformat": 4,
 "nbformat_minor": 4
}

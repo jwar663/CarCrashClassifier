{
 "cells": [
  {
   "cell_type": "code",
   "execution_count": 4,
   "metadata": {},
   "outputs": [
    {
     "data": {
      "text/html": [
       "<div>\n",
       "<style scoped>\n",
       "    .dataframe tbody tr th:only-of-type {\n",
       "        vertical-align: middle;\n",
       "    }\n",
       "\n",
       "    .dataframe tbody tr th {\n",
       "        vertical-align: top;\n",
       "    }\n",
       "\n",
       "    .dataframe thead th {\n",
       "        text-align: right;\n",
       "    }\n",
       "</style>\n",
       "<table border=\"1\" class=\"dataframe\">\n",
       "  <thead>\n",
       "    <tr style=\"text-align: right;\">\n",
       "      <th></th>\n",
       "      <th>CRASH_SEV_CODE</th>\n",
       "      <th>CLUSTER_SCALED</th>\n",
       "    </tr>\n",
       "  </thead>\n",
       "  <tbody>\n",
       "    <tr>\n",
       "      <th>0</th>\n",
       "      <td>0</td>\n",
       "      <td>2</td>\n",
       "    </tr>\n",
       "    <tr>\n",
       "      <th>1</th>\n",
       "      <td>0</td>\n",
       "      <td>4</td>\n",
       "    </tr>\n",
       "    <tr>\n",
       "      <th>2</th>\n",
       "      <td>0</td>\n",
       "      <td>4</td>\n",
       "    </tr>\n",
       "    <tr>\n",
       "      <th>3</th>\n",
       "      <td>0</td>\n",
       "      <td>4</td>\n",
       "    </tr>\n",
       "    <tr>\n",
       "      <th>4</th>\n",
       "      <td>0</td>\n",
       "      <td>2</td>\n",
       "    </tr>\n",
       "    <tr>\n",
       "      <th>...</th>\n",
       "      <td>...</td>\n",
       "      <td>...</td>\n",
       "    </tr>\n",
       "    <tr>\n",
       "      <th>674806</th>\n",
       "      <td>2</td>\n",
       "      <td>1</td>\n",
       "    </tr>\n",
       "    <tr>\n",
       "      <th>674807</th>\n",
       "      <td>2</td>\n",
       "      <td>2</td>\n",
       "    </tr>\n",
       "    <tr>\n",
       "      <th>674808</th>\n",
       "      <td>2</td>\n",
       "      <td>3</td>\n",
       "    </tr>\n",
       "    <tr>\n",
       "      <th>674809</th>\n",
       "      <td>2</td>\n",
       "      <td>1</td>\n",
       "    </tr>\n",
       "    <tr>\n",
       "      <th>674810</th>\n",
       "      <td>2</td>\n",
       "      <td>1</td>\n",
       "    </tr>\n",
       "  </tbody>\n",
       "</table>\n",
       "<p>674811 rows × 2 columns</p>\n",
       "</div>"
      ],
      "text/plain": [
       "        CRASH_SEV_CODE  CLUSTER_SCALED\n",
       "0                    0               2\n",
       "1                    0               4\n",
       "2                    0               4\n",
       "3                    0               4\n",
       "4                    0               2\n",
       "...                ...             ...\n",
       "674806               2               1\n",
       "674807               2               2\n",
       "674808               2               3\n",
       "674809               2               1\n",
       "674810               2               1\n",
       "\n",
       "[674811 rows x 2 columns]"
      ]
     },
     "execution_count": 4,
     "metadata": {},
     "output_type": "execute_result"
    }
   ],
   "source": [
    "#import and process\n",
    "\n",
    "import pandas as pd\n",
    "\n",
    "crash_data = pd.read_csv(\"crash_data_with_clusters.csv\")\n",
    "\n",
    "def processData(data, keep_col_array):\n",
    "    processed_data = data[keep_col_array]\n",
    "    return processed_data\n",
    "\n",
    "keep_col_array = ['CRASH_SEV_CODE', 'CLUSTER_SCALED']\n",
    "processed_crash_data = processData(crash_data, keep_col_array)\n",
    "processed_crash_data"
   ]
  },
  {
   "cell_type": "code",
   "execution_count": 8,
   "metadata": {},
   "outputs": [
    {
     "data": {
      "image/png": "[encoded data removed]",
      "text/plain": [
       "<Figure size 432x288 with 1 Axes>"
      ]
     },
     "metadata": {
      "needs_background": "light"
     },
     "output_type": "display_data"
    }
   ],
   "source": [
    "#graphing\n",
    "#not very helpful\n",
    "import matplotlib.pyplot as plt\n",
    "\n",
    "x = processed_crash_data['CRASH_SEV_CODE']\n",
    "y = processed_crash_data['CLUSTER_SCALED']\n",
    "\n",
    "plt.scatter(x, y)\n",
    "plt.title('Scatter plot comparing cluster to crash severity')\n",
    "plt.xlabel('CRASH_SEV_CODE')\n",
    "plt.ylabel('CLUSTER_SCALED')\n",
    "plt.show()\n"
   ]
  }
 ],
 "metadata": {
  "kernelspec": {
   "display_name": "Python 3",
   "language": "python",
   "name": "python3"
  },
  "language_info": {
   "codemirror_mode": {
    "name": "ipython",
    "version": 3
   },
   "file_extension": ".py",
   "mimetype": "text/x-python",
   "name": "python",
   "nbconvert_exporter": "python",
   "pygments_lexer": "ipython3",
   "version": "3.7.8"
  }
 },
 "nbformat": 4,
 "nbformat_minor": 4
}

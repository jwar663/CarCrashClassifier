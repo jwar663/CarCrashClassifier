{
 "cells": [
  {
   "cell_type": "code",
   "execution_count": 1,
   "metadata": {},
   "outputs": [],
   "source": [
    "#import classification model\n",
    "from joblib import dump, load\n",
    "clf = load('decision_tree_classification_model.joblib')"
   ]
  },
  {
   "cell_type": "code",
   "execution_count": 19,
   "metadata": {},
   "outputs": [],
   "source": [
    "#GUI\n",
    "import tkinter\n",
    "from tkinter import *\n",
    "import os"
   ]
  },
  {
   "cell_type": "code",
   "execution_count": null,
   "metadata": {},
   "outputs": [],
   "source": [
    "\n",
    "root = Tk()\n",
    "\n",
    "canvas = Canvas(root, height=700, width=700, bg=\"#000000\")\n",
    "canvas.pack()\n",
    "\n",
    "frame = Frame(root, bg=\"white\")\n",
    "frame.place(relwidth=0.8, relheight=0.8, relx=0.1, rely=0.1)\n",
    "\n",
    "loadModel = Button(root, text=\"Load Classification Model\", padx=10, pady=5, fg=\"white\", bg=\"#263D41\")\n",
    "loadModel.pack()\n",
    "\n",
    "crashYear = Menubutton(root, text=\"Crash Year\")\n",
    "crashYear.menu = Menu(crashYear)\n",
    "crashYear[\"menu\"] = crashYear.menu\n",
    "\n",
    "\n",
    "#crashYear.menu.add_command(label=\"2020\", command=updateCrashLabel)\n",
    "crashYear.menu.add_command(label=\"2019\")\n",
    "crashYear.menu.add_command(label=\"2018\")\n",
    "crashYear.menu.add_command(label=\"2017\")\n",
    "crashYear.menu.add_command(label=\"2016\")\n",
    "crashYear.menu.add_command(label=\"2015\")\n",
    "crashYear.menu.add_command(label=\"2014\")\n",
    "crashYear.menu.add_command(label=\"2013\")\n",
    "crashYear.menu.add_command(label=\"2012\")\n",
    "crashYear.menu.add_command(label=\"2011\")\n",
    "crashYear.menu.add_command(label=\"2010\")\n",
    "crashYear.menu.add_command(label=\"2009\")\n",
    "crashYear.menu.add_command(label=\"2008\")\n",
    "crashYear.menu.add_command(label=\"2007\")\n",
    "crashYear.menu.add_command(label=\"2006\")\n",
    "crashYear.menu.add_command(label=\"2005\")\n",
    "crashYear.menu.add_command(label=\"2004\")\n",
    "crashYear.menu.add_command(label=\"2003\")\n",
    "crashYear.menu.add_command(label=\"2002\")\n",
    "crashYear.menu.add_command(label=\"2001\")\n",
    "crashYear.menu.add_command(label=\"2000\")\n",
    "\n",
    "crashYear.pack()\n",
    "\n",
    "\n",
    "\n",
    "root.mainloop()"
   ]
  }
 ],
 "metadata": {
  "kernelspec": {
   "display_name": "Python 3",
   "language": "python",
   "name": "python3"
  },
  "language_info": {
   "codemirror_mode": {
    "name": "ipython",
    "version": 3
   },
   "file_extension": ".py",
   "mimetype": "text/x-python",
   "name": "python",
   "nbconvert_exporter": "python",
   "pygments_lexer": "ipython3",
   "version": "3.7.8"
  }
 },
 "nbformat": 4,
 "nbformat_minor": 4
}

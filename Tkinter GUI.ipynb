{
 "cells": [
  {
   "cell_type": "code",
   "execution_count": 1,
   "metadata": {},
   "outputs": [],
   "source": [
    "#GUI\n",
    "import sklearn\n",
    "import tkinter\n",
    "from tkinter import *\n",
    "import os\n",
    "from joblib import dump, load\n",
    "from sklearn.preprocessing import MinMaxScaler"
   ]
  },
  {
   "cell_type": "code",
   "execution_count": 15,
   "metadata": {},
   "outputs": [],
   "source": [
    "options=[ [ 0 for i in range(91) ] for j in range(2) ]\n",
    "scaler = MinMaxScaler()\n",
    "#predict = [3, 3]\n",
    "#prediction = \"serious\"\n",
    "clf = load('decision_tree_classification_model.joblib')"
   ]
  },
  {
   "cell_type": "code",
   "execution_count": 4,
   "metadata": {},
   "outputs": [],
   "source": [
    "modelLoaded = False "
   ]
  },
  {
   "cell_type": "code",
   "execution_count": 23,
   "metadata": {},
   "outputs": [],
   "source": [
    "def getSeverity(predict):\n",
    "    print(\"in get severity\")\n",
    "    prediction = None\n",
    "    if predict[0] == 0:\n",
    "        prediction = \"fatal\"\n",
    "    elif predict[0] == 1:\n",
    "        prediction = \"minor\"\n",
    "    elif predict[0] == 2:\n",
    "        prediction = \"no injury\"\n",
    "    else:\n",
    "        prediction = \"not serious\"\n",
    "    return prediction\n",
    "\n",
    "def setOptions():\n",
    "    options[0][0]=crashYearSelected.get()\n",
    "    if multiVehicleSelected.get() == \"Single Vehicle\":\n",
    "        options[0][1]=1\n",
    "    print(\"in options\")\n",
    "\n",
    "def loadModelCommand():\n",
    "    if not modelLoaded:\n",
    "        #import classification model\n",
    "        #clf = load('decision_tree_classification_model.joblib')\n",
    "        #loadModel.config(state=DISABLED, text=\"Model Loaded Successfully\")\n",
    "        print(\"load\")\n",
    "      \n",
    "def setCrashYear(event):\n",
    "    print(\"chose year\")\n",
    "    \n",
    "def setMultiVehicle(event):\n",
    "    print(\"chose multiple vehicles\")\n",
    "    \n",
    "def queryClassificationModel():\n",
    "    print(\"start query\")\n",
    "    scaledOptions = scaler.fit_transform(options)\n",
    "    #reshapeOptions = scaledOptions.reshape(-1,1)\n",
    "    #predict = clf.predict(reshapeOptions)\n",
    "    predict = clf.predict(scaledOptions)\n",
    "    print(predict[0])\n",
    "    return predict\n",
    "\n",
    "def startPredictionCommand():\n",
    "    print(\"Started Prediction\")\n",
    "    setOptions()\n",
    "    print(options)\n",
    "    predict = queryClassificationModel()\n",
    "    prediction = getSeverity(predict)\n",
    "    print(prediction)\n",
    "    severityLabel.config(text=prediction)"
   ]
  },
  {
   "cell_type": "code",
   "execution_count": 22,
   "metadata": {},
   "outputs": [
    {
     "ename": "SyntaxError",
     "evalue": "invalid syntax (<ipython-input-22-19b6ee64184b>, line 59)",
     "output_type": "error",
     "traceback": [
      "\u001b[1;36m  File \u001b[1;32m\"<ipython-input-22-19b6ee64184b>\"\u001b[1;36m, line \u001b[1;32m59\u001b[0m\n\u001b[1;33m    severityLabel = Label(frame, text=)\u001b[0m\n\u001b[1;37m                                      ^\u001b[0m\n\u001b[1;31mSyntaxError\u001b[0m\u001b[1;31m:\u001b[0m invalid syntax\n"
     ]
    }
   ],
   "source": [
    "\n",
    "root = Tk()\n",
    "\n",
    "canvas = Canvas(root, height=700, width=700, bg=\"#000000\")\n",
    "canvas.pack()\n",
    "\n",
    "frame = Frame(root, bg=\"white\")\n",
    "frame.place(relwidth=0.8, relheight=0.8, relx=0.1, rely=0.1)\n",
    "\n",
    "#Crash year option menu\n",
    "crashYearOptions = [\n",
    "    2020,\n",
    "    2019,\n",
    "    2018,\n",
    "    2017,\n",
    "    2016,\n",
    "    2015,\n",
    "    2014,\n",
    "    2013,\n",
    "    2012,\n",
    "    2011,\n",
    "    2010,\n",
    "    2009,\n",
    "    2008,\n",
    "    2007,\n",
    "    2006,\n",
    "    2005,\n",
    "    2004,\n",
    "    2003,\n",
    "    2002,\n",
    "    2001,\n",
    "    2000\n",
    "]\n",
    "\n",
    "crashYearSelected = IntVar()\n",
    "crashYearSelected.set(crashYearOptions[0])\n",
    "crashYear = OptionMenu(frame, crashYearSelected, *crashYearOptions, command=setCrashYear)\n",
    "crashYear.pack()\n",
    "\n",
    "#Multiple Vehicle option menu\n",
    "multiVehicleOptions = [\n",
    "    \"Single Vehicle\",\n",
    "    \"Multi Vehicle\",\n",
    "    \"Vehicle(s) and Pedestrian(s)\",\n",
    "    \"Vehicle(s) and Cyclist(s)\",\n",
    "    \"Vehicle(s) and multiple other types\"\n",
    "]\n",
    "\n",
    "multiVehicleSelected = StringVar()\n",
    "multiVehicleSelected.set(multiVehicleOptions[0])\n",
    "multiVehicle = OptionMenu(frame, multiVehicleSelected, *multiVehicleOptions, command=setMultiVehicle)\n",
    "multiVehicle.pack()\n",
    "\n",
    "loadModel = Button(frame, text=\"Load Classification Model\", padx=10, pady=5, fg=\"white\", bg=\"#263D41\", command=loadModelCommand)\n",
    "loadModel.pack()\n",
    "\n",
    "startPrediction = Button(frame, text=\"Predict Severity\", padx=10, pady=5, fg=\"white\", bg=\"#263D41\", command=startPredictionCommand)\n",
    "startPrediction.pack()\n",
    "\n",
    "severityLabel = Label(frame, text=\"No results yet\")\n",
    "severityLabel.pack()\n",
    "\n",
    "root.mainloop()"
   ]
  },
  {
   "cell_type": "code",
   "execution_count": null,
   "metadata": {},
   "outputs": [],
   "source": []
  }
 ],
 "metadata": {
  "kernelspec": {
   "display_name": "Python 3",
   "language": "python",
   "name": "python3"
  },
  "language_info": {
   "codemirror_mode": {
    "name": "ipython",
    "version": 3
   },
   "file_extension": ".py",
   "mimetype": "text/x-python",
   "name": "python",
   "nbconvert_exporter": "python",
   "pygments_lexer": "ipython3",
   "version": "3.7.8"
  }
 },
 "nbformat": 4,
 "nbformat_minor": 4
}
